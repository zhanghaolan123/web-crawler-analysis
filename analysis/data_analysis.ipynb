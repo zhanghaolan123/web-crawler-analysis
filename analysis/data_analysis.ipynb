# 数据清洗与词云生成
import pandas as pd
from wordcloud import WordCloud
import matplotlib.pyplot as plt

# 加载数据
df = pd.read_json('../data/jobs.json')
df['skills'] = df['skills'].apply(lambda x: ' '.join(x))

# 生成词云
text = ' '.join(df['skills'])
wordcloud = WordCloud(
    font_path='SimHei.ttf',  # 需下载中文字体文件
    background_color='white',
    width=800,
    height=600
).generate(text)

plt.figure(figsize=(10, 6))
plt.imshow(wordcloud, interpolation='bilinear')
plt.axis('off')
plt.savefig('../analysis/skills_cloud.png')
